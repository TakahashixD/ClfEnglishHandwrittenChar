{
  "nbformat": 4,
  "nbformat_minor": 0,
  "metadata": {
    "colab": {
      "provenance": [],
      "mount_file_id": "1KK6ivtx4GpuXeFtUFYLibAqqWQZTyZMM",
      "authorship_tag": "ABX9TyOC8K3hPL01ck8aEGKZpFoq",
      "include_colab_link": true
    },
    "kernelspec": {
      "name": "python3",
      "display_name": "Python 3"
    },
    "language_info": {
      "name": "python"
    },
    "gpuClass": "standard"
  },
  "cells": [
    {
      "cell_type": "markdown",
      "metadata": {
        "id": "view-in-github",
        "colab_type": "text"
      },
      "source": [
        "<a href=\"https://colab.research.google.com/github/TakahashixD/ClfEnglishHandwrittenChar/blob/main/CEHC.ipynb\" target=\"_parent\"><img src=\"https://colab.research.google.com/assets/colab-badge.svg\" alt=\"Open In Colab\"/></a>"
      ]
    },
    {
      "cell_type": "code",
      "execution_count": null,
      "metadata": {
        "id": "q2UrLetOYlCm"
      },
      "outputs": [],
      "source": [
        "import pandas as pd\n",
        "import os\n",
        "pd.set_option('display.max_columns', None)\n",
        "\n",
        "import numpy as np\n",
        "\n",
        "import matplotlib.image as mpimg\n",
        "import matplotlib.pyplot as plt\n",
        "%matplotlib inline\n",
        "\n",
        "from skimage.io import imread, imshow\n",
        "from skimage.feature import canny, hog\n",
        "from skimage.transform import rescale, resize, downscale_local_mean\n",
        "from skimage.filters import threshold_otsu\n",
        "from skimage.morphology import label\n",
        "from skimage.measure import regionprops\n",
        "import matplotlib.patches as mpatches\n",
        "\n",
        "\n",
        "import cv2\n",
        "\n",
        "from sklearn.preprocessing import LabelEncoder\n",
        "from sklearn.model_selection import train_test_split, StratifiedKFold, cross_val_score\n",
        "from sklearn import datasets, svm, metrics\n",
        "from sklearn.neighbors import KNeighborsClassifier\n",
        "\n",
        "import pickle\n",
        "\n",
        "from scipy import ndimage as ndi\n",
        "\n",
        "from tabulate import tabulate"
      ]
    },
    {
      "cell_type": "code",
      "source": [
        "#https://scholar.google.com.br/scholar?q=Efficient+Handwritten+Digit+Recognition+based+on++Histogram+of+Oriented+Gradients+and+SVM&hl=pt-BR&as_sdt=0&as_vis=1&oi=scholart\n",
        "#https://peerj.com/articles/453/?report=reader&utm_source=TrendMD&utm_campaign=PeerJ_TrendMD_1&utm_medium=TrendMD\n",
        "#https://research.ijcaonline.org/volume84/number2/pxc3892644.pdf\n",
        "#https://www.ijert.org/research/handwritten-character-classification-and-recognition-using-neural-network-IJERTCONV3IS12020.pdf\n"
      ],
      "metadata": {
        "id": "dyn92esRsByG"
      },
      "execution_count": null,
      "outputs": []
    },
    {
      "cell_type": "code",
      "source": [
        "url = 'https://drive.google.com/file/d/1mmVufOw2dTwTXZk9oI6Nq_IP4Qkez6Sw/view?usp=share_link'\n",
        "path = 'https://drive.google.com/uc?export=download&id='+url.split('/')[-2]\n",
        "df = pd.read_csv(path)"
      ],
      "metadata": {
        "id": "br6wShNxZNfr"
      },
      "execution_count": null,
      "outputs": []
    },
    {
      "cell_type": "code",
      "source": [
        "classes = df['label'].unique()\n",
        "quantity = len(df['label'].unique())\n",
        "print(f'\\n The %d Classes are: \\n {classes}' %quantity)    \n",
        "\n"
      ],
      "metadata": {
        "colab": {
          "base_uri": "https://localhost:8080/"
        },
        "id": "0wqGVgj2tykO",
        "outputId": "99d140f5-fe79-4034-a262-7f09444ba41a"
      },
      "execution_count": null,
      "outputs": [
        {
          "output_type": "stream",
          "name": "stdout",
          "text": [
            "\n",
            " The 62 Classes are: \n",
            " ['0' '1' '2' '3' '4' '5' '6' '7' '8' '9' 'A' 'B' 'C' 'D' 'E' 'F' 'G' 'H'\n",
            " 'I' 'J' 'K' 'L' 'M' 'N' 'O' 'P' 'Q' 'R' 'S' 'T' 'U' 'V' 'W' 'X' 'Y' 'Z'\n",
            " 'a' 'b' 'c' 'd' 'e' 'f' 'g' 'h' 'i' 'j' 'k' 'l' 'm' 'n' 'o' 'p' 'q' 'r'\n",
            " 's' 't' 'u' 'v' 'w' 'x' 'y' 'z']\n"
          ]
        }
      ]
    },
    {
      "cell_type": "code",
      "source": [
        "#tranformar Labels em números\n",
        "LE = LabelEncoder()\n",
        "df['label'] = LE.fit_transform(df['label'])\n",
        "#LE.inverse_transform(df['label'])"
      ],
      "metadata": {
        "id": "VaV9_sDezZYF"
      },
      "execution_count": null,
      "outputs": []
    },
    {
      "cell_type": "code",
      "source": [
        "image = imread(\"/content/drive/MyDrive/handwriting_classf/\" + df.at[3, \"image\"], as_gray=True)\n",
        "print(image.shape)\n"
      ],
      "metadata": {
        "id": "L2pDW3St_qPW",
        "colab": {
          "base_uri": "https://localhost:8080/"
        },
        "outputId": "3d0812fd-5944-44ef-94d8-5a2f50bcc033"
      },
      "execution_count": null,
      "outputs": [
        {
          "output_type": "stream",
          "name": "stdout",
          "text": [
            "(900, 1200)\n"
          ]
        }
      ]
    },
    {
      "cell_type": "code",
      "source": [
        "thresh = threshold_otsu(image)\n",
        "binary = image <= thresh\n",
        "imshow(binary)"
      ],
      "metadata": {
        "colab": {
          "base_uri": "https://localhost:8080/",
          "height": 315
        },
        "id": "JIbAF-t7vfhM",
        "outputId": "b8777e6c-81a8-4065-9e64-ee84129ad8d1"
      },
      "execution_count": null,
      "outputs": [
        {
          "output_type": "execute_result",
          "data": {
            "text/plain": [
              "<matplotlib.image.AxesImage at 0x7ffb6c023070>"
            ]
          },
          "metadata": {},
          "execution_count": 26
        },
        {
          "output_type": "display_data",
          "data": {
            "text/plain": [
              "<Figure size 432x288 with 1 Axes>"
            ],
            "image/png": "[encoded data removed]"
          },
          "metadata": {
            "needs_background": "light"
          }
        }
      ]
    },
    {
      "cell_type": "code",
      "source": [
        "fig, ax5 = plt.subplots(ncols=1, nrows=1,\n",
        "                         figsize=(8, 4))\n",
        "\n",
        "# Label image regions.\n",
        "\n",
        "label_image = label(binary)\n",
        "\n",
        "ax5.imshow(image, cmap=plt.cm.gray)\n",
        "ax5.set_title('', fontsize=24)\n",
        "ax5.axis('off')\n",
        "\n",
        "for region in regionprops(label_image):\n",
        "    # Draw rectangle around segmented coins.\n",
        "    minr, minc, maxr, maxc = region.bbox\n",
        "    rect = mpatches.Rectangle((minc, minr),\n",
        "                              maxc - minc,\n",
        "                              maxr - minr,\n",
        "                              fill=False,\n",
        "                              edgecolor='red',\n",
        "                              linewidth=2)\n",
        "    ax5.add_patch(rect)\n",
        "    cropped = binary[region.bbox[0]:region.bbox[2],region.bbox[1]:region.bbox[3]]\n",
        "\n",
        "plt.tight_layout()\n",
        "plt.show()"
      ],
      "metadata": {
        "colab": {
          "base_uri": "https://localhost:8080/",
          "height": 297
        },
        "id": "okJHBuTx0A8h",
        "outputId": "c37086fd-01ab-4db4-bd20-43cbd47991fd"
      },
      "execution_count": null,
      "outputs": [
        {
          "output_type": "display_data",
          "data": {
            "text/plain": [
              "<Figure size 576x288 with 1 Axes>"
            ],
            "image/png": "[encoded data removed]"
          },
          "metadata": {
            "needs_background": "light"
          }
        }
      ]
    },
    {
      "cell_type": "code",
      "source": [
        "imshow(cropped, cmap='gray')"
      ],
      "metadata": {
        "colab": {
          "base_uri": "https://localhost:8080/",
          "height": 315
        },
        "id": "OO4Fski13q73",
        "outputId": "7345f2be-a396-40b6-9965-0a08aa911732"
      },
      "execution_count": null,
      "outputs": [
        {
          "output_type": "execute_result",
          "data": {
            "text/plain": [
              "<matplotlib.image.AxesImage at 0x7ffb6bf0cc40>"
            ]
          },
          "metadata": {},
          "execution_count": 28
        },
        {
          "output_type": "display_data",
          "data": {
            "text/plain": [
              "<Figure size 432x288 with 1 Axes>"
            ],
            "image/png": "[encoded data removed]"
          },
          "metadata": {
            "needs_background": "light"
          }
        }
      ]
    },
    {
      "cell_type": "code",
      "source": [
        "resized_img = resize(cropped, (28, 28), anti_aliasing=False)\n",
        "print(resized_img.shape)\n",
        "imshow(resized_img, cmap='gray')"
      ],
      "metadata": {
        "colab": {
          "base_uri": "https://localhost:8080/",
          "height": 333
        },
        "id": "T5vSf-ShnFKL",
        "outputId": "e6796a0f-d891-4684-c768-7d3a05d7225c"
      },
      "execution_count": null,
      "outputs": [
        {
          "output_type": "stream",
          "name": "stdout",
          "text": [
            "(28, 28)\n"
          ]
        },
        {
          "output_type": "execute_result",
          "data": {
            "text/plain": [
              "<matplotlib.image.AxesImage at 0x7ffb6b8462e0>"
            ]
          },
          "metadata": {},
          "execution_count": 45
        },
        {
          "output_type": "display_data",
          "data": {
            "text/plain": [
              "<Figure size 432x288 with 1 Axes>"
            ],
            "image/png": "[encoded data removed]"
          },
          "metadata": {
            "needs_background": "light"
          }
        }
      ]
    },
    {
      "cell_type": "code",
      "source": [
        "resized_img"
      ],
      "metadata": {
        "id": "IDutVqCnol4t"
      },
      "execution_count": null,
      "outputs": []
    },
    {
      "cell_type": "code",
      "source": [
        "lista=  []\n",
        "lista.append(resized_img)\n"
      ],
      "metadata": {
        "id": "ZtmyZ53uEIgY"
      },
      "execution_count": null,
      "outputs": []
    },
    {
      "cell_type": "code",
      "source": [
        "hog_features, hog_img = hog(resized_img,  orientations=9, pixels_per_cell=(4, 4),\n",
        "                    cells_per_block=(1, 1), visualize=True)"
      ],
      "metadata": {
        "id": "SmUIOZ_CDUGb"
      },
      "execution_count": null,
      "outputs": []
    },
    {
      "cell_type": "code",
      "source": [
        "imshow(hog_img, cmap='gray')"
      ],
      "metadata": {
        "colab": {
          "base_uri": "https://localhost:8080/",
          "height": 315
        },
        "id": "HAwaySNFx8aX",
        "outputId": "bc5c898e-5b22-4dba-a9f9-49ac2674d7ff"
      },
      "execution_count": null,
      "outputs": [
        {
          "output_type": "execute_result",
          "data": {
            "text/plain": [
              "<matplotlib.image.AxesImage at 0x7ffb6b7b9a30>"
            ]
          },
          "metadata": {},
          "execution_count": 48
        },
        {
          "output_type": "display_data",
          "data": {
            "text/plain": [
              "<Figure size 432x288 with 1 Axes>"
            ],
            "image/png": "[encoded data removed]"
          },
          "metadata": {
            "needs_background": "light"
          }
        }
      ]
    },
    {
      "cell_type": "code",
      "source": [
        "\n",
        "# carregar as imagens pré-carregadas do arquivo de cache\n",
        "try:\n",
        "  with open('/content/drive/MyDrive/handwriting_classf/features_cache.pkl', 'rb') as f:\n",
        "    X = pickle.load(f)\n",
        "  with open('/content/drive/MyDrive/handwriting_classf/features_cache_s.pkl', 'rb') as v:\n",
        "    X_bin = pickle.load(v)\n",
        "  with open('/content/drive/MyDrive/handwriting_classf/imagens_cache.pkl', 'rb') as i:\n",
        "    X_images = pickle.load(i)\n",
        "except FileNotFoundError:\n",
        "    # se o arquivo de cache não existir, carregar as imagens normalmente e salvar em cache\n",
        "    images = []\n",
        "    features = []\n",
        "    for i in range(len(df)):\n",
        "      image = imread(\"/content/drive/MyDrive/handwriting_classf/\" + df.at[i, \"image\"], as_gray=True)\n",
        "      thresh = threshold_otsu(image)\n",
        "      binary = image <= thresh\n",
        "      label_image = label(binary)\n",
        "      #corta imagem\n",
        "      for region in regionprops(label_image):\n",
        "        cropped = binary[region.bbox[0]:region.bbox[2],region.bbox[1]:region.bbox[3]]\n",
        "      #diminui imagem\n",
        "      resized_img = resize(cropped, (28, 28), anti_aliasing=False)\n",
        "      #hog features\n",
        "      hog_features = hog(resized_img,  orientations=9, pixels_per_cell=(4, 4),\n",
        "                    cells_per_block=(1, 1))\n",
        "      images.append(resized_img)\n",
        "      #features = np.reshape(resized_img, (100*100))\n",
        "      features.append(hog_features)\n",
        "    \n",
        "     #salvar as imagens pré-carregadas em um arquivo de cache\n",
        "    with open('features_cache_s.pkl', 'wb') as f:\n",
        "        pickle.dump(features, f)\n",
        "    with open('imagens_cache.pkl', 'wb') as i:\n",
        "        pickle.dump(images, i)"
      ],
      "metadata": {
        "id": "AkoB_8ztncyS"
      },
      "execution_count": null,
      "outputs": []
    },
    {
      "cell_type": "code",
      "source": [
        "X_matrix = np.array(X)\n",
        "X_matrix_bin = np.array(X_bin)"
      ],
      "metadata": {
        "id": "m-_4ufdw_Fak"
      },
      "execution_count": null,
      "outputs": []
    },
    {
      "cell_type": "code",
      "source": [
        "imshow(X_images[0])\n"
      ],
      "metadata": {
        "id": "_6ee9BMQBILo"
      },
      "execution_count": null,
      "outputs": []
    },
    {
      "cell_type": "code",
      "source": [
        "list_of_features = []\n",
        "for i in range(len(X_images)):\n",
        "  img_features = np.reshape(X_images[i], (28*28))\n",
        "  list_of_features.append(img_features)"
      ],
      "metadata": {
        "id": "BbRch-aBBXzJ"
      },
      "execution_count": null,
      "outputs": []
    },
    {
      "cell_type": "code",
      "source": [
        "X_matrix_bin.shape"
      ],
      "metadata": {
        "colab": {
          "base_uri": "https://localhost:8080/"
        },
        "id": "0sf00r4wV0t0",
        "outputId": "a33a2f96-d047-4265-d9d0-b37d773c7729"
      },
      "execution_count": null,
      "outputs": [
        {
          "output_type": "execute_result",
          "data": {
            "text/plain": [
              "(3410, 441)"
            ]
          },
          "metadata": {},
          "execution_count": 106
        }
      ]
    },
    {
      "cell_type": "code",
      "source": [
        "y = df[\"label\"]\n",
        "y"
      ],
      "metadata": {
        "id": "eD9i5mm36AH3",
        "colab": {
          "base_uri": "https://localhost:8080/"
        },
        "outputId": "238f2f08-ec1f-4f7c-aecb-3d1a04244beb"
      },
      "execution_count": null,
      "outputs": [
        {
          "output_type": "execute_result",
          "data": {
            "text/plain": [
              "0        0\n",
              "1        0\n",
              "2        0\n",
              "3        0\n",
              "4        0\n",
              "        ..\n",
              "3405    61\n",
              "3406    61\n",
              "3407    61\n",
              "3408    61\n",
              "3409    61\n",
              "Name: label, Length: 3410, dtype: int64"
            ]
          },
          "metadata": {},
          "execution_count": 53
        }
      ]
    },
    {
      "cell_type": "code",
      "source": [
        "model = svm.SVC(kernel='rbf')\n",
        "#divisão 70% treino e 30% teste\n",
        "X_train, X_test, y_train, y_test = train_test_split(X_matrix_bin, y, test_size=0.3, random_state=0,  stratify=y)\n",
        "print(X_train.shape) \n",
        "print(X_test.shape)\n",
        "print(y_train.shape) \n",
        "print(y_test.shape)"
      ],
      "metadata": {
        "id": "9jsTHFXqJ1Sm",
        "colab": {
          "base_uri": "https://localhost:8080/"
        },
        "outputId": "97efbe6c-666c-4612-b92b-78508cc2b310"
      },
      "execution_count": null,
      "outputs": [
        {
          "output_type": "stream",
          "name": "stdout",
          "text": [
            "(2387, 441)\n",
            "(1023, 441)\n",
            "(2387,)\n",
            "(1023,)\n"
          ]
        }
      ]
    },
    {
      "cell_type": "code",
      "source": [
        "y_test.value_counts()"
      ],
      "metadata": {
        "colab": {
          "base_uri": "https://localhost:8080/"
        },
        "id": "PCUbkcCsxxJV",
        "outputId": "96abce63-2419-471a-959f-0d7fd39e7613"
      },
      "execution_count": null,
      "outputs": [
        {
          "output_type": "execute_result",
          "data": {
            "text/plain": [
              "13    17\n",
              "37    17\n",
              "24    17\n",
              "59    17\n",
              "36    17\n",
              "      ..\n",
              "35    16\n",
              "61    16\n",
              "33    16\n",
              "43    16\n",
              "28    16\n",
              "Name: label, Length: 62, dtype: int64"
            ]
          },
          "metadata": {},
          "execution_count": 76
        }
      ]
    },
    {
      "cell_type": "code",
      "source": [
        "model.fit(X_train, y_train)"
      ],
      "metadata": {
        "colab": {
          "base_uri": "https://localhost:8080/",
          "height": 75
        },
        "id": "7bTwZfr6N38S",
        "outputId": "75f9d536-a18a-4434-b8dc-d38eaf01f604"
      },
      "execution_count": null,
      "outputs": [
        {
          "output_type": "execute_result",
          "data": {
            "text/plain": [
              "SVC()"
            ],
            "text/html": [
              "<style>#sk-container-id-2 {color: black;background-color: white;}#sk-container-id-2 pre{padding: 0;}#sk-container-id-2 div.sk-toggleable {background-color: white;}#sk-container-id-2 label.sk-toggleable__label {cursor: pointer;display: block;width: 100%;margin-bottom: 0;padding: 0.3em;box-sizing: border-box;text-align: center;}#sk-container-id-2 label.sk-toggleable__label-arrow:before {content: \"▸\";float: left;margin-right: 0.25em;color: #696969;}#sk-container-id-2 label.sk-toggleable__label-arrow:hover:before {color: black;}#sk-container-id-2 div.sk-estimator:hover label.sk-toggleable__label-arrow:before {color: black;}#sk-container-id-2 div.sk-toggleable__content {max-height: 0;max-width: 0;overflow: hidden;text-align: left;background-color: #f0f8ff;}#sk-container-id-2 div.sk-toggleable__content pre {margin: 0.2em;color: black;border-radius: 0.25em;background-color: #f0f8ff;}#sk-container-id-2 input.sk-toggleable__control:checked~div.sk-toggleable__content {max-height: 200px;max-width: 100%;overflow: auto;}#sk-container-id-2 input.sk-toggleable__control:checked~label.sk-toggleable__label-arrow:before {content: \"▾\";}#sk-container-id-2 div.sk-estimator input.sk-toggleable__control:checked~label.sk-toggleable__label {background-color: #d4ebff;}#sk-container-id-2 div.sk-label input.sk-toggleable__control:checked~label.sk-toggleable__label {background-color: #d4ebff;}#sk-container-id-2 input.sk-hidden--visually {border: 0;clip: rect(1px 1px 1px 1px);clip: rect(1px, 1px, 1px, 1px);height: 1px;margin: -1px;overflow: hidden;padding: 0;position: absolute;width: 1px;}#sk-container-id-2 div.sk-estimator {font-family: monospace;background-color: #f0f8ff;border: 1px dotted black;border-radius: 0.25em;box-sizing: border-box;margin-bottom: 0.5em;}#sk-container-id-2 div.sk-estimator:hover {background-color: #d4ebff;}#sk-container-id-2 div.sk-parallel-item::after {content: \"\";width: 100%;border-bottom: 1px solid gray;flex-grow: 1;}#sk-container-id-2 div.sk-label:hover label.sk-toggleable__label {background-color: #d4ebff;}#sk-container-id-2 div.sk-serial::before {content: \"\";position: absolute;border-left: 1px solid gray;box-sizing: border-box;top: 0;bottom: 0;left: 50%;z-index: 0;}#sk-container-id-2 div.sk-serial {display: flex;flex-direction: column;align-items: center;background-color: white;padding-right: 0.2em;padding-left: 0.2em;position: relative;}#sk-container-id-2 div.sk-item {position: relative;z-index: 1;}#sk-container-id-2 div.sk-parallel {display: flex;align-items: stretch;justify-content: center;background-color: white;position: relative;}#sk-container-id-2 div.sk-item::before, #sk-container-id-2 div.sk-parallel-item::before {content: \"\";position: absolute;border-left: 1px solid gray;box-sizing: border-box;top: 0;bottom: 0;left: 50%;z-index: -1;}#sk-container-id-2 div.sk-parallel-item {display: flex;flex-direction: column;z-index: 1;position: relative;background-color: white;}#sk-container-id-2 div.sk-parallel-item:first-child::after {align-self: flex-end;width: 50%;}#sk-container-id-2 div.sk-parallel-item:last-child::after {align-self: flex-start;width: 50%;}#sk-container-id-2 div.sk-parallel-item:only-child::after {width: 0;}#sk-container-id-2 div.sk-dashed-wrapped {border: 1px dashed gray;margin: 0 0.4em 0.5em 0.4em;box-sizing: border-box;padding-bottom: 0.4em;background-color: white;}#sk-container-id-2 div.sk-label label {font-family: monospace;font-weight: bold;display: inline-block;line-height: 1.2em;}#sk-container-id-2 div.sk-label-container {text-align: center;}#sk-container-id-2 div.sk-container {/* jupyter's `normalize.less` sets `[hidden] { display: none; }` but bootstrap.min.css set `[hidden] { display: none !important; }` so we also need the `!important` here to be able to override the default hidden behavior on the sphinx rendered scikit-learn.org. See: https://github.com/scikit-learn/scikit-learn/issues/21755 */display: inline-block !important;position: relative;}#sk-container-id-2 div.sk-text-repr-fallback {display: none;}</style><div id=\"sk-container-id-2\" class=\"sk-top-container\"><div class=\"sk-text-repr-fallback\"><pre>SVC()</pre><b>In a Jupyter environment, please rerun this cell to show the HTML representation or trust the notebook. <br />On GitHub, the HTML representation is unable to render, please try loading this page with nbviewer.org.</b></div><div class=\"sk-container\" hidden><div class=\"sk-item\"><div class=\"sk-estimator sk-toggleable\"><input class=\"sk-toggleable__control sk-hidden--visually\" id=\"sk-estimator-id-2\" type=\"checkbox\" checked><label for=\"sk-estimator-id-2\" class=\"sk-toggleable__label sk-toggleable__label-arrow\">SVC</label><div class=\"sk-toggleable__content\"><pre>SVC()</pre></div></div></div></div></div>"
            ]
          },
          "metadata": {},
          "execution_count": 77
        }
      ]
    },
    {
      "cell_type": "code",
      "source": [
        "#parametros SVM\n",
        "SVM_params = [{\"kernel\":\"rbf\"}, {\"kernel\":\"poly\"}, {\"kernel\":\"sigmoid\"}, {\"kernel\":\"linear\"}]\n",
        "#parametros KNN\n",
        "KNN_params = kneighbors_params = [{\"n_neighbors\":3}, {\"n_neighbors\":5}, {\"n_neighbors\":7}, {\"n_neighbors\":9}]\n",
        "models = [\n",
        "    ['SVM', svm.SVC, SVM_params],\n",
        "    ['KNN', KNeighborsClassifier, kneighbors_params]\n",
        "]\n",
        "#KFold\n",
        "cv = StratifiedKFold(n_splits=5)\n",
        "#ver número de divisões por default K = 5\n",
        "cv.get_n_splits(X_matrix)\n"
      ],
      "metadata": {
        "colab": {
          "base_uri": "https://localhost:8080/"
        },
        "id": "0MFTgJnW9z3e",
        "outputId": "3357df21-c453-4f11-a43c-c11a6943a09b"
      },
      "execution_count": null,
      "outputs": [
        {
          "output_type": "execute_result",
          "data": {
            "text/plain": [
              "5"
            ]
          },
          "metadata": {},
          "execution_count": 103
        }
      ]
    },
    {
      "cell_type": "code",
      "source": [
        "def gerarResultados(Xtrain, Xtest, ytrain, ytest):\n",
        "  resultados = []\n",
        "  for modelname, Model, params_list in models:\n",
        "      for params in params_list:\n",
        "          model = Model(**params)\n",
        "          model.fit(Xtrain, ytrain)\n",
        "          predict = model.predict(Xtest)\n",
        "          accuracy = \"{0:.3f}\".format(metrics.accuracy_score(ytest, predict))\n",
        "          recall = \"{0:.3f}\".format(metrics.recall_score(ytest, predict, average = 'micro'))\n",
        "          precision = \"{0:.3f}\".format(metrics.precision_score(ytest, predict, average = 'micro'))      \n",
        "          resultados.append((modelname, params, accuracy, recall, precision))\n",
        "  print((tabulate(resultados, headers=[\"Modelo\", \"parametros\", \"acurácia\", \"revocação\", \"precisão\"])))"
      ],
      "metadata": {
        "id": "VCXFHK7D_Loo"
      },
      "execution_count": null,
      "outputs": []
    },
    {
      "cell_type": "code",
      "source": [
        "gerarResultados(X_train, X_test, y_train, y_test)"
      ],
      "metadata": {
        "colab": {
          "base_uri": "https://localhost:8080/"
        },
        "id": "AdxgCgo_BATy",
        "outputId": "8b624025-8042-4278-ea76-f4a41bd1c8c6"
      },
      "execution_count": null,
      "outputs": [
        {
          "output_type": "stream",
          "name": "stdout",
          "text": [
            "Modelo    parametros               acurácia    revocação    precisão\n",
            "--------  ---------------------  ----------  -----------  ----------\n",
            "SVM       {'kernel': 'rbf'}           0.812        0.812       0.812\n",
            "SVM       {'kernel': 'poly'}          0.79         0.79        0.79\n",
            "SVM       {'kernel': 'sigmoid'}       0.791        0.791       0.791\n",
            "SVM       {'kernel': 'linear'}        0.781        0.781       0.781\n",
            "KNN       {'n_neighbors': 3}          0.725        0.725       0.725\n",
            "KNN       {'n_neighbors': 5}          0.736        0.736       0.736\n",
            "KNN       {'n_neighbors': 7}          0.741        0.741       0.741\n",
            "KNN       {'n_neighbors': 9}          0.728        0.728       0.728\n"
          ]
        }
      ]
    },
    {
      "cell_type": "code",
      "source": [
        "def gerarResultadosCross(X, y):\n",
        "  resultados = []\n",
        "  for modelname, Model, params_list in models:\n",
        "      for params in params_list:\n",
        "          model = Model(**params)\n",
        "          accuracy = \"{0:.3f}\".format(cross_val_score(model, X, y, scoring='accuracy', cv=cv).mean())\n",
        "          recall = \"{0:.3f}\".format(cross_val_score(model, X, y, scoring='recall_micro', cv=cv).mean())\n",
        "          precision = \"{0:.3f}\".format(cross_val_score(model, X, y, scoring='precision_micro', cv=cv).mean())\n",
        "          resultados.append((modelname, params, accuracy, recall, precision))      \n",
        "  print((tabulate(resultados, headers=[\"Modelo\", \"parametros\", \"acurácia\", \"revocação\", \"precisão\"])))"
      ],
      "metadata": {
        "id": "-RJVHy0J9TC0"
      },
      "execution_count": null,
      "outputs": []
    },
    {
      "cell_type": "code",
      "source": [
        "gerarResultadosCross(X_matrix_bin, y)"
      ],
      "metadata": {
        "colab": {
          "base_uri": "https://localhost:8080/"
        },
        "id": "4OT5JaN8FvW_",
        "outputId": "c1d9e5df-e05c-4a01-dad4-832ee01241cd"
      },
      "execution_count": null,
      "outputs": [
        {
          "output_type": "stream",
          "name": "stdout",
          "text": [
            "Modelo    parametros               acurácia    revocação    precisão\n",
            "--------  ---------------------  ----------  -----------  ----------\n",
            "SVM       {'kernel': 'rbf'}           0.801        0.801       0.801\n",
            "SVM       {'kernel': 'poly'}          0.78         0.78        0.78\n",
            "SVM       {'kernel': 'sigmoid'}       0.785        0.785       0.785\n",
            "SVM       {'kernel': 'linear'}        0.772        0.772       0.772\n",
            "KNN       {'n_neighbors': 3}          0.73         0.73        0.73\n",
            "KNN       {'n_neighbors': 5}          0.73         0.73        0.73\n",
            "KNN       {'n_neighbors': 7}          0.731        0.731       0.731\n",
            "KNN       {'n_neighbors': 9}          0.733        0.733       0.733\n"
          ]
        }
      ]
    },
    {
      "cell_type": "code",
      "source": [
        "prediction = model.predict(X_test)"
      ],
      "metadata": {
        "id": "NVm1tkJCN9C-"
      },
      "execution_count": null,
      "outputs": []
    },
    {
      "cell_type": "code",
      "source": [
        "y_char = LE.inverse_transform(y_test)\n",
        "print(\n",
        "    f\"Classification report for classifier {model}:\\n\"\n",
        "    f\"{metrics.classification_report(y_char, LE.inverse_transform(prediction))}\\n\"\n",
        ")"
      ],
      "metadata": {
        "id": "RwYsVFcEi-cK"
      },
      "execution_count": null,
      "outputs": []
    },
    {
      "cell_type": "code",
      "source": [
        "from sklearn.metrics import confusion_matrix, ConfusionMatrixDisplay\n",
        "cm = confusion_matrix(y_char, LE.inverse_transform(prediction))\n",
        "disp = ConfusionMatrixDisplay(confusion_matrix=cm,\n",
        "                              display_labels=LE.inverse_transform(model.classes_))\n",
        "fig, ax = plt.subplots(figsize=(25,25))\n",
        "disp.plot(ax=ax)"
      ],
      "metadata": {
        "colab": {
          "base_uri": "https://localhost:8080/",
          "height": 1000
        },
        "id": "X1ygFjaM4CyO",
        "outputId": "5a9d4db9-5c18-4b73-c2e8-d6ef2f2d9631"
      },
      "execution_count": null,
      "outputs": [
        {
          "output_type": "execute_result",
          "data": {
            "text/plain": [
              "<sklearn.metrics._plot.confusion_matrix.ConfusionMatrixDisplay at 0x7ffb60a29fd0>"
            ]
          },
          "metadata": {},
          "execution_count": 100
        },
        {
          "output_type": "display_data",
          "data": {
            "text/plain": [
              "<Figure size 1800x1800 with 2 Axes>"
            ],
            "image/png": "[encoded data removed]"
          },
          "metadata": {
            "needs_background": "light"
          }
        }
      ]
    }
  ]
}